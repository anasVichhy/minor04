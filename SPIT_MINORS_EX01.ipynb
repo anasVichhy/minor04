{
  "nbformat": 4,
  "nbformat_minor": 0,
  "metadata": {
    "colab": {
      "provenance": []
    },
    "kernelspec": {
      "name": "python3",
      "display_name": "Python 3"
    },
    "language_info": {
      "name": "python"
    }
  },
  "cells": [
    {
      "cell_type": "markdown",
      "source": [
        "<div class=\"markdown-google-sans\">\n",
        "\n",
        "# **SPIT MINORS**\n",
        "\n",
        "</div>\n",
        "\n",
        "---"
      ],
      "metadata": {
        "id": "a4F36ERVcPbN"
      }
    },
    {
      "cell_type": "markdown",
      "source": [
        "<div class=\"markdown-google-sans\">\n",
        "\n",
        "## **MODULE 04 : INTRODUCTION TO MACHINE LEARNING**\n",
        "\n",
        "---\n"
      ],
      "metadata": {
        "id": "0si6JqI4ZN8D"
      }
    },
    {
      "cell_type": "markdown",
      "source": [
        "<div class=\"markdown-google-sans\">\n",
        "\n",
        "*   NAME          : VICHHY ANAS ASIF \n",
        "*   CLASS         : B. TECH MECHANICAL\n",
        "*   REGISTRATION  : M1910069\n",
        "*   EXPERIMENT 01 : EXPLORATORY DATA ANALYSIS (EDA)\n",
        "\n",
        "---\n",
        "\n",
        "</div>*italicized text*"
      ],
      "metadata": {
        "id": "OozrsXHxbb6U"
      }
    },
    {
      "cell_type": "markdown",
      "source": [
        "<div class=\"markdown-google-sans\">\n",
        "\n",
        "# Objective:\n",
        "Import the dataset and perform EDA such as number of data samples, number of features, number of classes, number of data samples per class, removing missing values, conversion to numbers, explore dimensionality, type the mean or average value, and using seaborn library to plot different graphs.\n",
        "</div>\n",
        "\n",
        "---\n"
      ],
      "metadata": {
        "id": "sWtUVXvdZBic"
      }
    },
    {
      "cell_type": "markdown",
      "source": [
        "<div class=\"markdown-google-sans\">\n",
        "\n",
        "## **DATASET : https://data.nasa.gov/Space-Science/Meteorite-Landings/gh4g-9sfh**\n",
        "\n",
        "## Meteorite Landings\n",
        "\n",
        "This comprehensive data set from The Meteoritical Society contains information on all of the known meteorite landings. The Fusion Table is collected by Javier de la Torre and we've also provided an XLS file that consists of 34,513 meteorites and includes the following fields:\n",
        "\n",
        "place\n",
        "\n",
        "type_of_meteorite\n",
        "\n",
        "mass_g\n",
        "\n",
        "fell_found\n",
        "\n",
        "year\n",
        "\n",
        "database\n",
        "\n",
        "coordinate_1\n",
        "\n",
        "coordinates_2\n",
        "\n",
        "cartodb_id\n",
        "\n",
        "created_at\n",
        "\n",
        "updated_at\n",
        "\n",
        "year_date\n",
        "\n",
        "longitude\n",
        "\n",
        "latitude\n",
        "\n",
        "geojson\n",
        "\n",
        "</div>\n",
        "\n",
        "---"
      ],
      "metadata": {
        "id": "Y8MnbuEMctGk"
      }
    },
    {
      "cell_type": "code",
      "source": [
        "import numpy as np\n",
        "import pandas as pd\n",
        "import seaborn as sns\n",
        "import folium\n",
        "import matplotlib.pyplot as plt"
      ],
      "metadata": {
        "id": "VM7cER-xlLIM"
      },
      "execution_count": 8,
      "outputs": []
    },
    {
      "cell_type": "code",
      "source": [
        "df = pd.read_csv(\"Meteorite_Landings.csv\")\n",
        "\n",
        "# TO DISPLAY TOP 5 ROWS: \n",
        "df.head(5)"
      ],
      "metadata": {
        "colab": {
          "base_uri": "https://localhost:8080/",
          "height": 337
        },
        "id": "SJSSrzR-lGc-",
        "outputId": "86a62a5a-43ae-45b2-f139-a86185d0812e"
      },
      "execution_count": 9,
      "outputs": [
        {
          "output_type": "execute_result",
          "data": {
            "text/plain": [
              "       name     id nametype     recclass  mass (g)  fall    year    reclat  \\\n",
              "0    Aachen    1.0    Valid           L5      21.0  Fell  1880.0  50.77500   \n",
              "1    Aarhus    2.0    Valid           H6     720.0  Fell  1951.0  56.18333   \n",
              "2      Abee    6.0    Valid          EH4  107000.0  Fell  1952.0  54.21667   \n",
              "3  Acapulco   10.0    Valid  Acapulcoite    1914.0  Fell  1976.0  16.88333   \n",
              "4   Achiras  370.0    Valid           L6     780.0  Fell  1902.0 -33.16667   \n",
              "\n",
              "     reclong           GeoLocation  \n",
              "0    6.08333     (50.775, 6.08333)  \n",
              "1   10.23333  (56.18333, 10.23333)  \n",
              "2 -113.00000    (54.21667, -113.0)  \n",
              "3  -99.90000     (16.88333, -99.9)  \n",
              "4  -64.95000   (-33.16667, -64.95)  "
            ],
            "text/html": [
              "\n",
              "  <div id=\"df-62f40290-a0ae-4d9a-8dd3-98d68f137729\">\n",
              "    <div class=\"colab-df-container\">\n",
              "      <div>\n",
              "<style scoped>\n",
              "    .dataframe tbody tr th:only-of-type {\n",
              "        vertical-align: middle;\n",
              "    }\n",
              "\n",
              "    .dataframe tbody tr th {\n",
              "        vertical-align: top;\n",
              "    }\n",
              "\n",
              "    .dataframe thead th {\n",
              "        text-align: right;\n",
              "    }\n",
              "</style>\n",
              "<table border=\"1\" class=\"dataframe\">\n",
              "  <thead>\n",
              "    <tr style=\"text-align: right;\">\n",
              "      <th></th>\n",
              "      <th>name</th>\n",
              "      <th>id</th>\n",
              "      <th>nametype</th>\n",
              "      <th>recclass</th>\n",
              "      <th>mass (g)</th>\n",
              "      <th>fall</th>\n",
              "      <th>year</th>\n",
              "      <th>reclat</th>\n",
              "      <th>reclong</th>\n",
              "      <th>GeoLocation</th>\n",
              "    </tr>\n",
              "  </thead>\n",
              "  <tbody>\n",
              "    <tr>\n",
              "      <th>0</th>\n",
              "      <td>Aachen</td>\n",
              "      <td>1.0</td>\n",
              "      <td>Valid</td>\n",
              "      <td>L5</td>\n",
              "      <td>21.0</td>\n",
              "      <td>Fell</td>\n",
              "      <td>1880.0</td>\n",
              "      <td>50.77500</td>\n",
              "      <td>6.08333</td>\n",
              "      <td>(50.775, 6.08333)</td>\n",
              "    </tr>\n",
              "    <tr>\n",
              "      <th>1</th>\n",
              "      <td>Aarhus</td>\n",
              "      <td>2.0</td>\n",
              "      <td>Valid</td>\n",
              "      <td>H6</td>\n",
              "      <td>720.0</td>\n",
              "      <td>Fell</td>\n",
              "      <td>1951.0</td>\n",
              "      <td>56.18333</td>\n",
              "      <td>10.23333</td>\n",
              "      <td>(56.18333, 10.23333)</td>\n",
              "    </tr>\n",
              "    <tr>\n",
              "      <th>2</th>\n",
              "      <td>Abee</td>\n",
              "      <td>6.0</td>\n",
              "      <td>Valid</td>\n",
              "      <td>EH4</td>\n",
              "      <td>107000.0</td>\n",
              "      <td>Fell</td>\n",
              "      <td>1952.0</td>\n",
              "      <td>54.21667</td>\n",
              "      <td>-113.00000</td>\n",
              "      <td>(54.21667, -113.0)</td>\n",
              "    </tr>\n",
              "    <tr>\n",
              "      <th>3</th>\n",
              "      <td>Acapulco</td>\n",
              "      <td>10.0</td>\n",
              "      <td>Valid</td>\n",
              "      <td>Acapulcoite</td>\n",
              "      <td>1914.0</td>\n",
              "      <td>Fell</td>\n",
              "      <td>1976.0</td>\n",
              "      <td>16.88333</td>\n",
              "      <td>-99.90000</td>\n",
              "      <td>(16.88333, -99.9)</td>\n",
              "    </tr>\n",
              "    <tr>\n",
              "      <th>4</th>\n",
              "      <td>Achiras</td>\n",
              "      <td>370.0</td>\n",
              "      <td>Valid</td>\n",
              "      <td>L6</td>\n",
              "      <td>780.0</td>\n",
              "      <td>Fell</td>\n",
              "      <td>1902.0</td>\n",
              "      <td>-33.16667</td>\n",
              "      <td>-64.95000</td>\n",
              "      <td>(-33.16667, -64.95)</td>\n",
              "    </tr>\n",
              "  </tbody>\n",
              "</table>\n",
              "</div>\n",
              "      <button class=\"colab-df-convert\" onclick=\"convertToInteractive('df-62f40290-a0ae-4d9a-8dd3-98d68f137729')\"\n",
              "              title=\"Convert this dataframe to an interactive table.\"\n",
              "              style=\"display:none;\">\n",
              "        \n",
              "  <svg xmlns=\"http://www.w3.org/2000/svg\" height=\"24px\"viewBox=\"0 0 24 24\"\n",
              "       width=\"24px\">\n",
              "    <path d=\"M0 0h24v24H0V0z\" fill=\"none\"/>\n",
              "    <path d=\"M18.56 5.44l.94 2.06.94-2.06 2.06-.94-2.06-.94-.94-2.06-.94 2.06-2.06.94zm-11 1L8.5 8.5l.94-2.06 2.06-.94-2.06-.94L8.5 2.5l-.94 2.06-2.06.94zm10 10l.94 2.06.94-2.06 2.06-.94-2.06-.94-.94-2.06-.94 2.06-2.06.94z\"/><path d=\"M17.41 7.96l-1.37-1.37c-.4-.4-.92-.59-1.43-.59-.52 0-1.04.2-1.43.59L10.3 9.45l-7.72 7.72c-.78.78-.78 2.05 0 2.83L4 21.41c.39.39.9.59 1.41.59.51 0 1.02-.2 1.41-.59l7.78-7.78 2.81-2.81c.8-.78.8-2.07 0-2.86zM5.41 20L4 18.59l7.72-7.72 1.47 1.35L5.41 20z\"/>\n",
              "  </svg>\n",
              "      </button>\n",
              "      \n",
              "  <style>\n",
              "    .colab-df-container {\n",
              "      display:flex;\n",
              "      flex-wrap:wrap;\n",
              "      gap: 12px;\n",
              "    }\n",
              "\n",
              "    .colab-df-convert {\n",
              "      background-color: #E8F0FE;\n",
              "      border: none;\n",
              "      border-radius: 50%;\n",
              "      cursor: pointer;\n",
              "      display: none;\n",
              "      fill: #1967D2;\n",
              "      height: 32px;\n",
              "      padding: 0 0 0 0;\n",
              "      width: 32px;\n",
              "    }\n",
              "\n",
              "    .colab-df-convert:hover {\n",
              "      background-color: #E2EBFA;\n",
              "      box-shadow: 0px 1px 2px rgba(60, 64, 67, 0.3), 0px 1px 3px 1px rgba(60, 64, 67, 0.15);\n",
              "      fill: #174EA6;\n",
              "    }\n",
              "\n",
              "    [theme=dark] .colab-df-convert {\n",
              "      background-color: #3B4455;\n",
              "      fill: #D2E3FC;\n",
              "    }\n",
              "\n",
              "    [theme=dark] .colab-df-convert:hover {\n",
              "      background-color: #434B5C;\n",
              "      box-shadow: 0px 1px 3px 1px rgba(0, 0, 0, 0.15);\n",
              "      filter: drop-shadow(0px 1px 2px rgba(0, 0, 0, 0.3));\n",
              "      fill: #FFFFFF;\n",
              "    }\n",
              "  </style>\n",
              "\n",
              "      <script>\n",
              "        const buttonEl =\n",
              "          document.querySelector('#df-62f40290-a0ae-4d9a-8dd3-98d68f137729 button.colab-df-convert');\n",
              "        buttonEl.style.display =\n",
              "          google.colab.kernel.accessAllowed ? 'block' : 'none';\n",
              "\n",
              "        async function convertToInteractive(key) {\n",
              "          const element = document.querySelector('#df-62f40290-a0ae-4d9a-8dd3-98d68f137729');\n",
              "          const dataTable =\n",
              "            await google.colab.kernel.invokeFunction('convertToInteractive',\n",
              "                                                     [key], {});\n",
              "          if (!dataTable) return;\n",
              "\n",
              "          const docLinkHtml = 'Like what you see? Visit the ' +\n",
              "            '<a target=\"_blank\" href=https://colab.research.google.com/notebooks/data_table.ipynb>data table notebook</a>'\n",
              "            + ' to learn more about interactive tables.';\n",
              "          element.innerHTML = '';\n",
              "          dataTable['output_type'] = 'display_data';\n",
              "          await google.colab.output.renderOutput(dataTable, element);\n",
              "          const docLink = document.createElement('div');\n",
              "          docLink.innerHTML = docLinkHtml;\n",
              "          element.appendChild(docLink);\n",
              "        }\n",
              "      </script>\n",
              "    </div>\n",
              "  </div>\n",
              "  "
            ]
          },
          "metadata": {},
          "execution_count": 9
        }
      ]
    },
    {
      "cell_type": "code",
      "source": [
        "# TO DISPLAY BOTTOM 5 ROWS: \n",
        "\n",
        "df.tail(5)"
      ],
      "metadata": {
        "colab": {
          "base_uri": "https://localhost:8080/",
          "height": 493
        },
        "id": "k6ioRKmDl0hZ",
        "outputId": "c5a3722d-e134-4530-c0ff-4ea08aa6dc46"
      },
      "execution_count": 10,
      "outputs": [
        {
          "output_type": "execute_result",
          "data": {
            "text/plain": [
              "                   name       id nametype recclass  mass (g)   fall    year  \\\n",
              "35987  Red Dry Lake 002  22539.0    Valid       H6      21.5  Found  2001.0   \n",
              "35988  Red Dry Lake 003  22540.0    Valid       H6      94.0  Found  2001.0   \n",
              "35989  Red Dry Lake 004  22541.0    Valid       H6      13.5  Found  2001.0   \n",
              "35990  Red Dry Lake 005  22542.0    Valid       H6      12.0  Found  2001.0   \n",
              "35991        Red Dry La      NaN      NaN      NaN       NaN    NaN     NaN   \n",
              "\n",
              "         reclat    reclong             GeoLocation  \n",
              "35987  35.65306 -114.02437  (35.65306, -114.02437)  \n",
              "35988  35.64552 -114.03069  (35.64552, -114.03069)  \n",
              "35989  35.64640 -114.02849   (35.6464, -114.02849)  \n",
              "35990  35.64645 -114.02853  (35.64645, -114.02853)  \n",
              "35991       NaN        NaN                     NaN  "
            ],
            "text/html": [
              "\n",
              "  <div id=\"df-6f5b6530-62a5-4200-9c54-e55d95377079\">\n",
              "    <div class=\"colab-df-container\">\n",
              "      <div>\n",
              "<style scoped>\n",
              "    .dataframe tbody tr th:only-of-type {\n",
              "        vertical-align: middle;\n",
              "    }\n",
              "\n",
              "    .dataframe tbody tr th {\n",
              "        vertical-align: top;\n",
              "    }\n",
              "\n",
              "    .dataframe thead th {\n",
              "        text-align: right;\n",
              "    }\n",
              "</style>\n",
              "<table border=\"1\" class=\"dataframe\">\n",
              "  <thead>\n",
              "    <tr style=\"text-align: right;\">\n",
              "      <th></th>\n",
              "      <th>name</th>\n",
              "      <th>id</th>\n",
              "      <th>nametype</th>\n",
              "      <th>recclass</th>\n",
              "      <th>mass (g)</th>\n",
              "      <th>fall</th>\n",
              "      <th>year</th>\n",
              "      <th>reclat</th>\n",
              "      <th>reclong</th>\n",
              "      <th>GeoLocation</th>\n",
              "    </tr>\n",
              "  </thead>\n",
              "  <tbody>\n",
              "    <tr>\n",
              "      <th>35987</th>\n",
              "      <td>Red Dry Lake 002</td>\n",
              "      <td>22539.0</td>\n",
              "      <td>Valid</td>\n",
              "      <td>H6</td>\n",
              "      <td>21.5</td>\n",
              "      <td>Found</td>\n",
              "      <td>2001.0</td>\n",
              "      <td>35.65306</td>\n",
              "      <td>-114.02437</td>\n",
              "      <td>(35.65306, -114.02437)</td>\n",
              "    </tr>\n",
              "    <tr>\n",
              "      <th>35988</th>\n",
              "      <td>Red Dry Lake 003</td>\n",
              "      <td>22540.0</td>\n",
              "      <td>Valid</td>\n",
              "      <td>H6</td>\n",
              "      <td>94.0</td>\n",
              "      <td>Found</td>\n",
              "      <td>2001.0</td>\n",
              "      <td>35.64552</td>\n",
              "      <td>-114.03069</td>\n",
              "      <td>(35.64552, -114.03069)</td>\n",
              "    </tr>\n",
              "    <tr>\n",
              "      <th>35989</th>\n",
              "      <td>Red Dry Lake 004</td>\n",
              "      <td>22541.0</td>\n",
              "      <td>Valid</td>\n",
              "      <td>H6</td>\n",
              "      <td>13.5</td>\n",
              "      <td>Found</td>\n",
              "      <td>2001.0</td>\n",
              "      <td>35.64640</td>\n",
              "      <td>-114.02849</td>\n",
              "      <td>(35.6464, -114.02849)</td>\n",
              "    </tr>\n",
              "    <tr>\n",
              "      <th>35990</th>\n",
              "      <td>Red Dry Lake 005</td>\n",
              "      <td>22542.0</td>\n",
              "      <td>Valid</td>\n",
              "      <td>H6</td>\n",
              "      <td>12.0</td>\n",
              "      <td>Found</td>\n",
              "      <td>2001.0</td>\n",
              "      <td>35.64645</td>\n",
              "      <td>-114.02853</td>\n",
              "      <td>(35.64645, -114.02853)</td>\n",
              "    </tr>\n",
              "    <tr>\n",
              "      <th>35991</th>\n",
              "      <td>Red Dry La</td>\n",
              "      <td>NaN</td>\n",
              "      <td>NaN</td>\n",
              "      <td>NaN</td>\n",
              "      <td>NaN</td>\n",
              "      <td>NaN</td>\n",
              "      <td>NaN</td>\n",
              "      <td>NaN</td>\n",
              "      <td>NaN</td>\n",
              "      <td>NaN</td>\n",
              "    </tr>\n",
              "  </tbody>\n",
              "</table>\n",
              "</div>\n",
              "      <button class=\"colab-df-convert\" onclick=\"convertToInteractive('df-6f5b6530-62a5-4200-9c54-e55d95377079')\"\n",
              "              title=\"Convert this dataframe to an interactive table.\"\n",
              "              style=\"display:none;\">\n",
              "        \n",
              "  <svg xmlns=\"http://www.w3.org/2000/svg\" height=\"24px\"viewBox=\"0 0 24 24\"\n",
              "       width=\"24px\">\n",
              "    <path d=\"M0 0h24v24H0V0z\" fill=\"none\"/>\n",
              "    <path d=\"M18.56 5.44l.94 2.06.94-2.06 2.06-.94-2.06-.94-.94-2.06-.94 2.06-2.06.94zm-11 1L8.5 8.5l.94-2.06 2.06-.94-2.06-.94L8.5 2.5l-.94 2.06-2.06.94zm10 10l.94 2.06.94-2.06 2.06-.94-2.06-.94-.94-2.06-.94 2.06-2.06.94z\"/><path d=\"M17.41 7.96l-1.37-1.37c-.4-.4-.92-.59-1.43-.59-.52 0-1.04.2-1.43.59L10.3 9.45l-7.72 7.72c-.78.78-.78 2.05 0 2.83L4 21.41c.39.39.9.59 1.41.59.51 0 1.02-.2 1.41-.59l7.78-7.78 2.81-2.81c.8-.78.8-2.07 0-2.86zM5.41 20L4 18.59l7.72-7.72 1.47 1.35L5.41 20z\"/>\n",
              "  </svg>\n",
              "      </button>\n",
              "      \n",
              "  <style>\n",
              "    .colab-df-container {\n",
              "      display:flex;\n",
              "      flex-wrap:wrap;\n",
              "      gap: 12px;\n",
              "    }\n",
              "\n",
              "    .colab-df-convert {\n",
              "      background-color: #E8F0FE;\n",
              "      border: none;\n",
              "      border-radius: 50%;\n",
              "      cursor: pointer;\n",
              "      display: none;\n",
              "      fill: #1967D2;\n",
              "      height: 32px;\n",
              "      padding: 0 0 0 0;\n",
              "      width: 32px;\n",
              "    }\n",
              "\n",
              "    .colab-df-convert:hover {\n",
              "      background-color: #E2EBFA;\n",
              "      box-shadow: 0px 1px 2px rgba(60, 64, 67, 0.3), 0px 1px 3px 1px rgba(60, 64, 67, 0.15);\n",
              "      fill: #174EA6;\n",
              "    }\n",
              "\n",
              "    [theme=dark] .colab-df-convert {\n",
              "      background-color: #3B4455;\n",
              "      fill: #D2E3FC;\n",
              "    }\n",
              "\n",
              "    [theme=dark] .colab-df-convert:hover {\n",
              "      background-color: #434B5C;\n",
              "      box-shadow: 0px 1px 3px 1px rgba(0, 0, 0, 0.15);\n",
              "      filter: drop-shadow(0px 1px 2px rgba(0, 0, 0, 0.3));\n",
              "      fill: #FFFFFF;\n",
              "    }\n",
              "  </style>\n",
              "\n",
              "      <script>\n",
              "        const buttonEl =\n",
              "          document.querySelector('#df-6f5b6530-62a5-4200-9c54-e55d95377079 button.colab-df-convert');\n",
              "        buttonEl.style.display =\n",
              "          google.colab.kernel.accessAllowed ? 'block' : 'none';\n",
              "\n",
              "        async function convertToInteractive(key) {\n",
              "          const element = document.querySelector('#df-6f5b6530-62a5-4200-9c54-e55d95377079');\n",
              "          const dataTable =\n",
              "            await google.colab.kernel.invokeFunction('convertToInteractive',\n",
              "                                                     [key], {});\n",
              "          if (!dataTable) return;\n",
              "\n",
              "          const docLinkHtml = 'Like what you see? Visit the ' +\n",
              "            '<a target=\"_blank\" href=https://colab.research.google.com/notebooks/data_table.ipynb>data table notebook</a>'\n",
              "            + ' to learn more about interactive tables.';\n",
              "          element.innerHTML = '';\n",
              "          dataTable['output_type'] = 'display_data';\n",
              "          await google.colab.output.renderOutput(dataTable, element);\n",
              "          const docLink = document.createElement('div');\n",
              "          docLink.innerHTML = docLinkHtml;\n",
              "          element.appendChild(docLink);\n",
              "        }\n",
              "      </script>\n",
              "    </div>\n",
              "  </div>\n",
              "  "
            ]
          },
          "metadata": {},
          "execution_count": 10
        }
      ]
    },
    {
      "cell_type": "code",
      "source": [
        "# CHECKING THE DATA TYPES :\n",
        "\n",
        "df.dtypes"
      ],
      "metadata": {
        "colab": {
          "base_uri": "https://localhost:8080/"
        },
        "id": "5mDKOIR1l_th",
        "outputId": "157d3fa9-ebd2-4ef1-89f6-1adf8af1b38e"
      },
      "execution_count": 11,
      "outputs": [
        {
          "output_type": "execute_result",
          "data": {
            "text/plain": [
              "name            object\n",
              "id             float64\n",
              "nametype        object\n",
              "recclass        object\n",
              "mass (g)       float64\n",
              "fall            object\n",
              "year           float64\n",
              "reclat         float64\n",
              "reclong        float64\n",
              "GeoLocation     object\n",
              "dtype: object"
            ]
          },
          "metadata": {},
          "execution_count": 11
        }
      ]
    },
    {
      "cell_type": "code",
      "source": [
        "# RENAMING THE COLUMNS :\n",
        "\n",
        "df = df.rename(columns = {\"name\" : \"NAME\", \n",
        "                          \"id\" : \"ID\",\n",
        "                          \"nametype\" : \"NAMETYPE\",\n",
        "                          \"recclass\" : \"RECCLASS\",\n",
        "                          \"mass (g)\" : \"MASS (g)\",\n",
        "                          \"fall\" : \"FALL\",\n",
        "                          \"year\" : \"YEAR\",\n",
        "                          \"reclat\" : \"RECLAT\",\n",
        "                          \"reclong\" : \"RECLONG\",\n",
        "                          \"GeoLocation\" : \"GEOLOCATION\"})\n",
        "\n",
        "df.head(5)"
      ],
      "metadata": {
        "colab": {
          "base_uri": "https://localhost:8080/",
          "height": 337
        },
        "id": "IUcb6pVGmqn1",
        "outputId": "92586129-0dc8-410f-a36b-94b6e6f67c14"
      },
      "execution_count": 12,
      "outputs": [
        {
          "output_type": "execute_result",
          "data": {
            "text/plain": [
              "       NAME     ID NAMETYPE     RECCLASS  MASS (g)  FALL    YEAR    RECLAT  \\\n",
              "0    Aachen    1.0    Valid           L5      21.0  Fell  1880.0  50.77500   \n",
              "1    Aarhus    2.0    Valid           H6     720.0  Fell  1951.0  56.18333   \n",
              "2      Abee    6.0    Valid          EH4  107000.0  Fell  1952.0  54.21667   \n",
              "3  Acapulco   10.0    Valid  Acapulcoite    1914.0  Fell  1976.0  16.88333   \n",
              "4   Achiras  370.0    Valid           L6     780.0  Fell  1902.0 -33.16667   \n",
              "\n",
              "     RECLONG           GEOLOCATION  \n",
              "0    6.08333     (50.775, 6.08333)  \n",
              "1   10.23333  (56.18333, 10.23333)  \n",
              "2 -113.00000    (54.21667, -113.0)  \n",
              "3  -99.90000     (16.88333, -99.9)  \n",
              "4  -64.95000   (-33.16667, -64.95)  "
            ],
            "text/html": [
              "\n",
              "  <div id=\"df-cd2b8d71-18ad-486c-9200-1f94658ed675\">\n",
              "    <div class=\"colab-df-container\">\n",
              "      <div>\n",
              "<style scoped>\n",
              "    .dataframe tbody tr th:only-of-type {\n",
              "        vertical-align: middle;\n",
              "    }\n",
              "\n",
              "    .dataframe tbody tr th {\n",
              "        vertical-align: top;\n",
              "    }\n",
              "\n",
              "    .dataframe thead th {\n",
              "        text-align: right;\n",
              "    }\n",
              "</style>\n",
              "<table border=\"1\" class=\"dataframe\">\n",
              "  <thead>\n",
              "    <tr style=\"text-align: right;\">\n",
              "      <th></th>\n",
              "      <th>NAME</th>\n",
              "      <th>ID</th>\n",
              "      <th>NAMETYPE</th>\n",
              "      <th>RECCLASS</th>\n",
              "      <th>MASS (g)</th>\n",
              "      <th>FALL</th>\n",
              "      <th>YEAR</th>\n",
              "      <th>RECLAT</th>\n",
              "      <th>RECLONG</th>\n",
              "      <th>GEOLOCATION</th>\n",
              "    </tr>\n",
              "  </thead>\n",
              "  <tbody>\n",
              "    <tr>\n",
              "      <th>0</th>\n",
              "      <td>Aachen</td>\n",
              "      <td>1.0</td>\n",
              "      <td>Valid</td>\n",
              "      <td>L5</td>\n",
              "      <td>21.0</td>\n",
              "      <td>Fell</td>\n",
              "      <td>1880.0</td>\n",
              "      <td>50.77500</td>\n",
              "      <td>6.08333</td>\n",
              "      <td>(50.775, 6.08333)</td>\n",
              "    </tr>\n",
              "    <tr>\n",
              "      <th>1</th>\n",
              "      <td>Aarhus</td>\n",
              "      <td>2.0</td>\n",
              "      <td>Valid</td>\n",
              "      <td>H6</td>\n",
              "      <td>720.0</td>\n",
              "      <td>Fell</td>\n",
              "      <td>1951.0</td>\n",
              "      <td>56.18333</td>\n",
              "      <td>10.23333</td>\n",
              "      <td>(56.18333, 10.23333)</td>\n",
              "    </tr>\n",
              "    <tr>\n",
              "      <th>2</th>\n",
              "      <td>Abee</td>\n",
              "      <td>6.0</td>\n",
              "      <td>Valid</td>\n",
              "      <td>EH4</td>\n",
              "      <td>107000.0</td>\n",
              "      <td>Fell</td>\n",
              "      <td>1952.0</td>\n",
              "      <td>54.21667</td>\n",
              "      <td>-113.00000</td>\n",
              "      <td>(54.21667, -113.0)</td>\n",
              "    </tr>\n",
              "    <tr>\n",
              "      <th>3</th>\n",
              "      <td>Acapulco</td>\n",
              "      <td>10.0</td>\n",
              "      <td>Valid</td>\n",
              "      <td>Acapulcoite</td>\n",
              "      <td>1914.0</td>\n",
              "      <td>Fell</td>\n",
              "      <td>1976.0</td>\n",
              "      <td>16.88333</td>\n",
              "      <td>-99.90000</td>\n",
              "      <td>(16.88333, -99.9)</td>\n",
              "    </tr>\n",
              "    <tr>\n",
              "      <th>4</th>\n",
              "      <td>Achiras</td>\n",
              "      <td>370.0</td>\n",
              "      <td>Valid</td>\n",
              "      <td>L6</td>\n",
              "      <td>780.0</td>\n",
              "      <td>Fell</td>\n",
              "      <td>1902.0</td>\n",
              "      <td>-33.16667</td>\n",
              "      <td>-64.95000</td>\n",
              "      <td>(-33.16667, -64.95)</td>\n",
              "    </tr>\n",
              "  </tbody>\n",
              "</table>\n",
              "</div>\n",
              "      <button class=\"colab-df-convert\" onclick=\"convertToInteractive('df-cd2b8d71-18ad-486c-9200-1f94658ed675')\"\n",
              "              title=\"Convert this dataframe to an interactive table.\"\n",
              "              style=\"display:none;\">\n",
              "        \n",
              "  <svg xmlns=\"http://www.w3.org/2000/svg\" height=\"24px\"viewBox=\"0 0 24 24\"\n",
              "       width=\"24px\">\n",
              "    <path d=\"M0 0h24v24H0V0z\" fill=\"none\"/>\n",
              "    <path d=\"M18.56 5.44l.94 2.06.94-2.06 2.06-.94-2.06-.94-.94-2.06-.94 2.06-2.06.94zm-11 1L8.5 8.5l.94-2.06 2.06-.94-2.06-.94L8.5 2.5l-.94 2.06-2.06.94zm10 10l.94 2.06.94-2.06 2.06-.94-2.06-.94-.94-2.06-.94 2.06-2.06.94z\"/><path d=\"M17.41 7.96l-1.37-1.37c-.4-.4-.92-.59-1.43-.59-.52 0-1.04.2-1.43.59L10.3 9.45l-7.72 7.72c-.78.78-.78 2.05 0 2.83L4 21.41c.39.39.9.59 1.41.59.51 0 1.02-.2 1.41-.59l7.78-7.78 2.81-2.81c.8-.78.8-2.07 0-2.86zM5.41 20L4 18.59l7.72-7.72 1.47 1.35L5.41 20z\"/>\n",
              "  </svg>\n",
              "      </button>\n",
              "      \n",
              "  <style>\n",
              "    .colab-df-container {\n",
              "      display:flex;\n",
              "      flex-wrap:wrap;\n",
              "      gap: 12px;\n",
              "    }\n",
              "\n",
              "    .colab-df-convert {\n",
              "      background-color: #E8F0FE;\n",
              "      border: none;\n",
              "      border-radius: 50%;\n",
              "      cursor: pointer;\n",
              "      display: none;\n",
              "      fill: #1967D2;\n",
              "      height: 32px;\n",
              "      padding: 0 0 0 0;\n",
              "      width: 32px;\n",
              "    }\n",
              "\n",
              "    .colab-df-convert:hover {\n",
              "      background-color: #E2EBFA;\n",
              "      box-shadow: 0px 1px 2px rgba(60, 64, 67, 0.3), 0px 1px 3px 1px rgba(60, 64, 67, 0.15);\n",
              "      fill: #174EA6;\n",
              "    }\n",
              "\n",
              "    [theme=dark] .colab-df-convert {\n",
              "      background-color: #3B4455;\n",
              "      fill: #D2E3FC;\n",
              "    }\n",
              "\n",
              "    [theme=dark] .colab-df-convert:hover {\n",
              "      background-color: #434B5C;\n",
              "      box-shadow: 0px 1px 3px 1px rgba(0, 0, 0, 0.15);\n",
              "      filter: drop-shadow(0px 1px 2px rgba(0, 0, 0, 0.3));\n",
              "      fill: #FFFFFF;\n",
              "    }\n",
              "  </style>\n",
              "\n",
              "      <script>\n",
              "        const buttonEl =\n",
              "          document.querySelector('#df-cd2b8d71-18ad-486c-9200-1f94658ed675 button.colab-df-convert');\n",
              "        buttonEl.style.display =\n",
              "          google.colab.kernel.accessAllowed ? 'block' : 'none';\n",
              "\n",
              "        async function convertToInteractive(key) {\n",
              "          const element = document.querySelector('#df-cd2b8d71-18ad-486c-9200-1f94658ed675');\n",
              "          const dataTable =\n",
              "            await google.colab.kernel.invokeFunction('convertToInteractive',\n",
              "                                                     [key], {});\n",
              "          if (!dataTable) return;\n",
              "\n",
              "          const docLinkHtml = 'Like what you see? Visit the ' +\n",
              "            '<a target=\"_blank\" href=https://colab.research.google.com/notebooks/data_table.ipynb>data table notebook</a>'\n",
              "            + ' to learn more about interactive tables.';\n",
              "          element.innerHTML = '';\n",
              "          dataTable['output_type'] = 'display_data';\n",
              "          await google.colab.output.renderOutput(dataTable, element);\n",
              "          const docLink = document.createElement('div');\n",
              "          docLink.innerHTML = docLinkHtml;\n",
              "          element.appendChild(docLink);\n",
              "        }\n",
              "      </script>\n",
              "    </div>\n",
              "  </div>\n",
              "  "
            ]
          },
          "metadata": {},
          "execution_count": 12
        }
      ]
    },
    {
      "cell_type": "code",
      "source": [
        "df.shape"
      ],
      "metadata": {
        "colab": {
          "base_uri": "https://localhost:8080/"
        },
        "id": "phvKCqJ9pp2o",
        "outputId": "3d2f0d60-1e89-4f0f-ebb7-dd4e417ac33d"
      },
      "execution_count": 13,
      "outputs": [
        {
          "output_type": "execute_result",
          "data": {
            "text/plain": [
              "(35992, 10)"
            ]
          },
          "metadata": {},
          "execution_count": 13
        }
      ]
    },
    {
      "cell_type": "code",
      "source": [
        "# CHECKING FOR DUPLICATE ROWS : \n",
        "\n",
        "duplicate_rows_df = df[df.duplicated()]\n",
        "print(\"NUMBER OF DUPLICATE ROWS : \", duplicate_rows_df.shape)"
      ],
      "metadata": {
        "colab": {
          "base_uri": "https://localhost:8080/"
        },
        "id": "CjTWkPn8ps7W",
        "outputId": "3b6832a4-a66b-40c4-a82b-dba6050ea848"
      },
      "execution_count": 14,
      "outputs": [
        {
          "output_type": "stream",
          "name": "stdout",
          "text": [
            "NUMBER OF DUPLICATE ROWS :  (0, 10)\n"
          ]
        }
      ]
    },
    {
      "cell_type": "code",
      "source": [
        "df.count()"
      ],
      "metadata": {
        "colab": {
          "base_uri": "https://localhost:8080/"
        },
        "id": "-5UE0JyoqeQ1",
        "outputId": "52695fce-7d08-4887-cd0a-e28456b516ae"
      },
      "execution_count": 15,
      "outputs": [
        {
          "output_type": "execute_result",
          "data": {
            "text/plain": [
              "NAME           35992\n",
              "ID             35991\n",
              "NAMETYPE       35991\n",
              "RECCLASS       35991\n",
              "MASS (g)       35867\n",
              "FALL           35991\n",
              "YEAR           35713\n",
              "RECLAT         29766\n",
              "RECLONG        29766\n",
              "GEOLOCATION    29766\n",
              "dtype: int64"
            ]
          },
          "metadata": {},
          "execution_count": 15
        }
      ]
    },
    {
      "cell_type": "code",
      "source": [
        "# CHECKING FOR NULL OR MISSING VALUES : \n",
        "\n",
        "print(df.isnull().sum())"
      ],
      "metadata": {
        "colab": {
          "base_uri": "https://localhost:8080/"
        },
        "id": "MkA1BUTVqHoF",
        "outputId": "6af3a2bc-d39b-46d8-fdac-f11ffc926ff7"
      },
      "execution_count": 16,
      "outputs": [
        {
          "output_type": "stream",
          "name": "stdout",
          "text": [
            "NAME              0\n",
            "ID                1\n",
            "NAMETYPE          1\n",
            "RECCLASS          1\n",
            "MASS (g)        125\n",
            "FALL              1\n",
            "YEAR            279\n",
            "RECLAT         6226\n",
            "RECLONG        6226\n",
            "GEOLOCATION    6226\n",
            "dtype: int64\n"
          ]
        }
      ]
    },
    {
      "cell_type": "code",
      "source": [
        "# DROPPING THE NULL VALUES:\n",
        "\n",
        "df = df.dropna()\n",
        "df.count()"
      ],
      "metadata": {
        "colab": {
          "base_uri": "https://localhost:8080/"
        },
        "id": "qhjZjW0iqqa2",
        "outputId": "40f0eea7-f215-4da1-f221-ce415e6dfdee"
      },
      "execution_count": 17,
      "outputs": [
        {
          "output_type": "execute_result",
          "data": {
            "text/plain": [
              "NAME           29496\n",
              "ID             29496\n",
              "NAMETYPE       29496\n",
              "RECCLASS       29496\n",
              "MASS (g)       29496\n",
              "FALL           29496\n",
              "YEAR           29496\n",
              "RECLAT         29496\n",
              "RECLONG        29496\n",
              "GEOLOCATION    29496\n",
              "dtype: int64"
            ]
          },
          "metadata": {},
          "execution_count": 17
        }
      ]
    },
    {
      "cell_type": "code",
      "source": [
        "# CHECKING AFTER DROPPING THE NULL VALUES:\n",
        "\n",
        "print(df.isnull().sum())"
      ],
      "metadata": {
        "colab": {
          "base_uri": "https://localhost:8080/"
        },
        "id": "4aYo3p9Nq4Gy",
        "outputId": "cdc17b3c-0f7a-4bcb-e238-47c48009f92c"
      },
      "execution_count": 18,
      "outputs": [
        {
          "output_type": "stream",
          "name": "stdout",
          "text": [
            "NAME           0\n",
            "ID             0\n",
            "NAMETYPE       0\n",
            "RECCLASS       0\n",
            "MASS (g)       0\n",
            "FALL           0\n",
            "YEAR           0\n",
            "RECLAT         0\n",
            "RECLONG        0\n",
            "GEOLOCATION    0\n",
            "dtype: int64\n"
          ]
        }
      ]
    },
    {
      "cell_type": "code",
      "source": [
        "# CALCULATING THE AVERAGE WEIGHT OF THE METEOR: \n",
        "\n",
        "mean_wt = df['MASS (g)'].mean()\n",
        "\n",
        "print(\"AVERAGE MASS OF A METEORITE IS {}g\".format(mean_wt))"
      ],
      "metadata": {
        "colab": {
          "base_uri": "https://localhost:8080/"
        },
        "id": "PsqQ3nnpweGn",
        "outputId": "10b3832e-0188-4bb5-dbcc-3a21347c8ec3"
      },
      "execution_count": 19,
      "outputs": [
        {
          "output_type": "stream",
          "name": "stdout",
          "text": [
            "AVERAGE MASS OF A METEORITE IS 17707.587786784647g\n"
          ]
        }
      ]
    },
    {
      "cell_type": "markdown",
      "source": [
        "### Scatterplot"
      ],
      "metadata": {
        "id": "IE7DQFTlr2BW"
      }
    },
    {
      "cell_type": "code",
      "source": [
        "fig, ax = plt.subplots(figsize = (20, 20))\n",
        "ax.scatter(df['MASS (g)'], df['YEAR'])\n",
        "ax.set_xlabel(\"YEAR\")\n",
        "ax.set_ylabel(\"MASS (g)\")\n",
        "plt.show()"
      ],
      "metadata": {
        "colab": {
          "base_uri": "https://localhost:8080/",
          "height": 766
        },
        "id": "ckZ4047Nr6g3",
        "outputId": "e0fa5258-330a-45c9-b740-75a1d9edadf3"
      },
      "execution_count": 20,
      "outputs": [
        {
          "output_type": "display_data",
          "data": {
            "text/plain": [
              "<Figure size 1440x1440 with 1 Axes>"
            ],
            "image/png": "[encoded data removed]"
          },
          "metadata": {
            "needs_background": "light"
          }
        }
      ]
    },
    {
      "cell_type": "code",
      "source": [
        "mass = df['MASS (g)']\n",
        "year = df['YEAR']\n",
        "\n",
        "fig = plt.figure()\n",
        "ax = fig.add_axes()\n",
        "plt.scatter(year, mass)\n",
        "\n",
        "plt.show()"
      ],
      "metadata": {
        "colab": {
          "base_uri": "https://localhost:8080/",
          "height": 276
        },
        "id": "odN_3ZCbycQa",
        "outputId": "7f66c5c9-5510-44b5-88ef-3a60f600fbbc"
      },
      "execution_count": null,
      "outputs": [
        {
          "output_type": "display_data",
          "data": {
            "text/plain": [
              "<Figure size 432x288 with 1 Axes>"
            ],
            "image/png": "[encoded data removed]"
          },
          "metadata": {
            "needs_background": "light"
          }
        }
      ]
    },
    {
      "cell_type": "code",
      "source": [
        "lat = df['RECLAT']\n",
        "lon = df['RECLONG']\n",
        "\n",
        "map  = folium.Map( tiles = \"openstreetmap\")\n",
        "\n",
        "for x,y in zip(lat, lon):\n",
        "  marker = folium.CircleMarker(\n",
        "      location = [x,y],\n",
        "      radius = 2, \n",
        "  ) \n",
        "\n",
        "  marker.add_to(map)\n",
        "\n",
        "map.save(\"dataplot.html\")"
      ],
      "metadata": {
        "id": "3IIdi6La1Qf8"
      },
      "execution_count": 22,
      "outputs": []
    }
  ]
}